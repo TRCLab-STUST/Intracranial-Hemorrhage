{
 "cells": [
  {
   "cell_type": "markdown",
   "metadata": {
    "id": "crTtwFBqzdE9"
   },
   "source": [
    "# 腦溢血自動切割 (Intracerebral Hemorrhage Segmentation)"
   ]
  },
  {
   "cell_type": "markdown",
   "metadata": {
    "id": "1FFT0Fz90xWS"
   },
   "source": [
    "## 1. 前期準備"
   ]
  },
  {
   "cell_type": "markdown",
   "metadata": {
    "id": "IYxoZwse1LZ5"
   },
   "source": [
    "### 1.1 掛載 Google 雲端硬碟"
   ]
  },
  {
   "cell_type": "code",
   "execution_count": 15,
   "metadata": {
    "colab": {
     "base_uri": "https://localhost:8080/"
    },
    "id": "4kcugj0nrqXe",
    "outputId": "04046bfe-4dec-4bb0-86d8-13baa7765dff"
   },
   "outputs": [],
   "source": [
    "# from google.colab import drive\n",
    "# drive.mount(\"/content/drive\")"
   ]
  },
  {
   "cell_type": "markdown",
   "metadata": {
    "id": "HyITIZ-M3A2p"
   },
   "source": [
    "### 1.2 套件庫"
   ]
  },
  {
   "cell_type": "markdown",
   "metadata": {
    "id": "Dajm1gY3KuJ7"
   },
   "source": [
    "#### 1.2.1 安裝額外套件"
   ]
  },
  {
   "cell_type": "code",
   "execution_count": 16,
   "metadata": {
    "colab": {
     "base_uri": "https://localhost:8080/"
    },
    "id": "nBzApITBKh5P",
    "outputId": "8fc3dd45-4112-49f8-acf1-738a367478c5"
   },
   "outputs": [],
   "source": [
    "# !pip install -U segmentation-models keras-applications image-classifiers efficientnet"
   ]
  },
  {
   "cell_type": "markdown",
   "metadata": {
    "id": "-7PAoauAWcVX"
   },
   "source": [
    "#### 1.2.2 匯入套件庫"
   ]
  },
  {
   "cell_type": "code",
   "execution_count": 17,
   "metadata": {
    "colab": {
     "base_uri": "https://localhost:8080/"
    },
    "id": "ROkFEoTq3AF4",
    "outputId": "d7897ad0-2144-44c1-e541-1b42d2157cd1"
   },
   "outputs": [],
   "source": [
    "import os\n",
    "import sys\n",
    "import math\n",
    "import tensorflow as tf\n",
    "from tensorflow import keras\n",
    "import matplotlib.pyplot as plt\n",
    "import segmentation_models as sm\n",
    "from tqdm.notebook import tqdm, trange"
   ]
  },
  {
   "cell_type": "markdown",
   "metadata": {
    "id": "KDEbAig7WiJF"
   },
   "source": [
    "#### 1.2.3 套件版本"
   ]
  },
  {
   "cell_type": "code",
   "execution_count": 18,
   "metadata": {
    "colab": {
     "base_uri": "https://localhost:8080/"
    },
    "id": "hTGu9sMSMn3X",
    "outputId": "dd865fa6-bf4e-4b29-b361-47d3ae8330f9"
   },
   "outputs": [
    {
     "name": "stdout",
     "output_type": "stream",
     "text": [
      "Python: 3.8.10 (default, Jun 22 2022, 20:18:18) \n",
      "[GCC 9.4.0]\n",
      "Tensorflow: 2.10.0\n",
      "Tensorflow-Keras: 2.10.0\n",
      "Segmentation_model: 1.0.1\n"
     ]
    }
   ],
   "source": [
    "print(f\"Python: {sys.version}\")\n",
    "print(f\"Tensorflow: {tf.__version__}\")\n",
    "print(f\"Tensorflow-Keras: {keras.__version__}\")\n",
    "print(f\"Segmentation_model: {sm.__version__}\")"
   ]
  },
  {
   "cell_type": "markdown",
   "metadata": {
    "id": "90xJK1mX1Opy"
   },
   "source": [
    "### 1.3 定義全域變數"
   ]
  },
  {
   "cell_type": "code",
   "execution_count": 19,
   "metadata": {
    "id": "xWkgKttDzcr1"
   },
   "outputs": [],
   "source": [
    "PROJECT_DIR = os.path.abspath(\"/workspaces/Intracranial-Hemorrhage/ICH-Segmentation\")\n",
    "LOGS_DIR = os.path.join(PROJECT_DIR, \"logs\")\n",
    "OUTPUT_DIR = os.path.join(PROJECT_DIR, \"output\")\n",
    "DATASET_DIR = os.path.join(PROJECT_DIR, \"datasets\")\n",
    "ICH420_DATASET = os.path.join(DATASET_DIR, \"ICH_420\")"
   ]
  },
  {
   "cell_type": "markdown",
   "metadata": {
    "id": "FTJxryfb8nWi"
   },
   "source": [
    "## 2. 資料集\n"
   ]
  },
  {
   "cell_type": "markdown",
   "metadata": {
    "id": "UpO5IOJ78tN-"
   },
   "source": [
    "### 2.1 ICH420 資料集"
   ]
  },
  {
   "cell_type": "markdown",
   "metadata": {
    "id": "vJd3p-GwXd3d"
   },
   "source": [
    "#### 2.1.1 抓取所有 TFRecord 檔案"
   ]
  },
  {
   "cell_type": "code",
   "execution_count": 20,
   "metadata": {
    "id": "ieV7JvzCXXKh"
   },
   "outputs": [],
   "source": [
    "tfrecords_filelist = tf.io.gfile.glob(\n",
    "    os.path.join(ICH420_DATASET, \"TFRecords\", \"train\", \"*.tfrecord\")\n",
    ")"
   ]
  },
  {
   "cell_type": "markdown",
   "metadata": {
    "id": "S4wv-p3zI4rQ"
   },
   "source": [
    "#### 2.1.2 將檔案資料載入為 TFRecord 格式"
   ]
  },
  {
   "cell_type": "code",
   "execution_count": 21,
   "metadata": {
    "id": "ivzFcivrXEhS"
   },
   "outputs": [],
   "source": [
    "ich420_tfrecords = tf.data.TFRecordDataset(\n",
    "    [tfrecords_filelist],\n",
    "    compression_type=\"GZIP\",\n",
    "    num_parallel_reads=tf.data.AUTOTUNE\n",
    ")"
   ]
  },
  {
   "cell_type": "markdown",
   "metadata": {
    "id": "e0-GQZFOXn7T"
   },
   "source": [
    "#### 2.1.3 TFRecord 資料解析"
   ]
  },
  {
   "cell_type": "code",
   "execution_count": 22,
   "metadata": {
    "id": "cAk8NWmAXs7s"
   },
   "outputs": [],
   "source": [
    "def _ich_tfrecord_parser(example):\n",
    "  features_description = {\n",
    "      \"filename\": tf.io.FixedLenFeature([], tf.string),\n",
    "      \"number\": tf.io.FixedLenFeature([], tf.int64),\n",
    "      \"sample\": tf.io.FixedLenFeature([], tf.int64),\n",
    "      \"image_raw\": tf.io.FixedLenFeature([], tf.string),\n",
    "      \"mask_raw\": tf.io.FixedLenFeature([], tf.string)\n",
    "  }\n",
    "\n",
    "  example = tf.io.parse_single_example(example, features_description)\n",
    "  image = tf.io.decode_png(example[\"image_raw\"], channels=1)\n",
    "  mask = tf.cast(\n",
    "      tf.io.decode_png(example[\"mask_raw\"], channels=1),\n",
    "      dtype=tf.float32\n",
    "  )\n",
    "  sample = tf.cast(example[\"sample\"], tf.bool)\n",
    "\n",
    "  return (image, mask), sample"
   ]
  },
  {
   "cell_type": "markdown",
   "metadata": {
    "id": "EuoYiDZ4Xz35"
   },
   "source": [
    "#### 2.1.4 TFRecord 資料集預處理"
   ]
  },
  {
   "cell_type": "code",
   "execution_count": 23,
   "metadata": {
    "id": "08AlE3arX7NU"
   },
   "outputs": [],
   "source": [
    "def load_dataset(\n",
    "    tfrecords, \n",
    "    train_rate=0.8, \n",
    "    only_sample=None, \n",
    "    shuffle=True,\n",
    "    repeat=False, \n",
    "    batch_size=1):\n",
    "  # 解析資料集\n",
    "  dataset = tfrecords.map(\n",
    "      _ich_tfrecord_parser,\n",
    "      num_parallel_calls=tf.data.AUTOTUNE,\n",
    "      deterministic=False\n",
    "  )\n",
    "  \n",
    "  # 提出指定的樣本類型 (None: 全部; True: 正樣本; False: 負樣本)\n",
    "  if only_sample is not None:\n",
    "    dataset = dataset.filter(lambda x, y: y == only_sample)\n",
    "  \n",
    "  dataset = dataset.map(\n",
    "      lambda x, _: x,\n",
    "      num_parallel_calls=tf.data.AUTOTUNE,\n",
    "      deterministic=False\n",
    "  )\n",
    "\n",
    "  # 計算尺寸\n",
    "  total_num = 1\n",
    "  for total_num, _ in enumerate(tqdm(\n",
    "      dataset, total=total_num, desc=\"Count\"), start=1): \n",
    "    pass\n",
    "\n",
    "  # 打散資料集\n",
    "  dataset = dataset.shuffle(\n",
    "      total_num, \n",
    "      reshuffle_each_iteration=False\n",
    "  )\n",
    "  \n",
    "  # 分為訓練及與測試集\n",
    "  train_num = int(total_num * train_rate)\n",
    "  valid_num = total_num - train_num\n",
    "  train_dataset = dataset.take(train_num)\n",
    "  valid_dataset = dataset.skip(train_num)\n",
    "  \n",
    "  if shuffle:\n",
    "    train_dataset = train_dataset.shuffle(\n",
    "        1024\n",
    "    )\n",
    "  \n",
    "  if repeat:\n",
    "    train_dataset = train_dataset.repeat()\n",
    "\n",
    "  train_dataset = train_dataset.batch(\n",
    "      batch_size,\n",
    "      drop_remainder=True,\n",
    "      num_parallel_calls=tf.data.AUTOTUNE,\n",
    "      deterministic=False\n",
    "  )\n",
    "  valid_dataset = valid_dataset.batch(\n",
    "      batch_size,\n",
    "      drop_remainder=True,\n",
    "      num_parallel_calls=tf.data.AUTOTUNE,\n",
    "      deterministic=False\n",
    "  )\n",
    "\n",
    "  train_dataset = train_dataset.prefetch(tf.data.AUTOTUNE)\n",
    "  valid_dataset = valid_dataset.prefetch(tf.data.AUTOTUNE)\n",
    "  \n",
    "  return (train_dataset, valid_dataset), (train_num, valid_num)"
   ]
  },
  {
   "cell_type": "markdown",
   "metadata": {
    "id": "Qc8hXHiTQXWD"
   },
   "source": [
    "## 3. 網路模型"
   ]
  },
  {
   "cell_type": "markdown",
   "metadata": {
    "id": "hTrbZvjRU6k3"
   },
   "source": [
    "### 3.1 UNet 模型"
   ]
  },
  {
   "cell_type": "code",
   "execution_count": 24,
   "metadata": {
    "id": "onR8wdMtQQa0"
   },
   "outputs": [],
   "source": [
    "def UNet(\n",
    "    backbone=\"efficientnetb3\",\n",
    "    encoder_weights=None,\n",
    "    input_shape=(None, None, 1),\n",
    "    optimizer=keras.optimizers.Adam(1e-4),\n",
    "    loss=(sm.losses.DiceLoss() + (1 * sm.losses.BinaryFocalLoss())),\n",
    "    metrics=[sm.metrics.IOUScore(threshold=0.5), sm.metrics.FScore(threshold=0.5)],\n",
    "    jit_compile=False\n",
    "):\n",
    "  model = sm.Unet(\n",
    "    backbone, \n",
    "    encoder_weights=encoder_weights, \n",
    "    input_shape=input_shape\n",
    "  )\n",
    "  model.compile(\n",
    "      optimizer,\n",
    "      loss=loss,\n",
    "      metrics=metrics,\n",
    "      jit_compile=jit_compile\n",
    "  )\n",
    "\n",
    "  return model"
   ]
  },
  {
   "cell_type": "markdown",
   "metadata": {
    "id": "B81v_evPUEwn"
   },
   "source": [
    "## 4. 訓練模型"
   ]
  },
  {
   "cell_type": "markdown",
   "metadata": {
    "id": "r1V_tUg3aRyv"
   },
   "source": [
    "### 4.1 超參數"
   ]
  },
  {
   "cell_type": "code",
   "execution_count": 25,
   "metadata": {
    "id": "YFIRYNgqaQcM"
   },
   "outputs": [],
   "source": [
    "BACKBONE = \"efficientnetb3\"\n",
    "TRAING_NAME = \"ICH420\"\n",
    "BATCH_SIZE = 4\n",
    "EPOCH = 1\n",
    "TRAINING_RATE = 0.8"
   ]
  },
  {
   "cell_type": "code",
   "execution_count": null,
   "metadata": {},
   "outputs": [],
   "source": [
    "CALLBACKS = [\n",
    "    keras.callbacks.TensorBoard(log_dir=LOGS_DIR),\n",
    "    keras.callbacks.ModelCheckpoint(\n",
    "        f\"{TRAING_NAME}-\" + \"{epoch}.h5\",\n",
    "        save_weights_only=True,\n",
    "        save_best_only=False\n",
    "    ),\n",
    "    keras.callbacks.ReduceLROnPlateau()\n",
    "]"
   ]
  },
  {
   "cell_type": "markdown",
   "metadata": {
    "id": "5oySDdwbUd_S"
   },
   "source": [
    "### 載入資料集"
   ]
  },
  {
   "cell_type": "code",
   "execution_count": 26,
   "metadata": {
    "colab": {
     "base_uri": "https://localhost:8080/",
     "height": 49,
     "referenced_widgets": [
      "586f400d88f0448388833cee919770bc",
      "990e4d48a766463d9118fd2390179e72",
      "2d9a65df10454ef3a41bf251cc8cd44d",
      "023f70c0bd2f4840bcd1540580a34a6d",
      "4a07a7048aa242bc9a1efa373a609cc3",
      "e9201bdd34f748cbb3ab2d7dfc99388f",
      "b1a7d9c1f40b4d6ba3421c26f29799b3",
      "4c91a712a7a2410c922538eaf352db09",
      "d1d7ea81351548f5bab406ae763aba6c",
      "2833b16ceb3e43deb4e13b30ee1e9545",
      "3d4b8b2875914fa5beb9f5adb21d6d7e"
     ]
    },
    "id": "krl9zHVyUhSM",
    "outputId": "ab2e9c53-71a0-4f15-f79b-7471213a42b9"
   },
   "outputs": [
    {
     "data": {
      "application/vnd.jupyter.widget-view+json": {
       "model_id": "e5d39c8dbeaf43c9b4967724054b59a2",
       "version_major": 2,
       "version_minor": 0
      },
      "text/plain": [
       "Count:   0%|          | 0/1 [00:00<?, ?it/s]"
      ]
     },
     "metadata": {},
     "output_type": "display_data"
    }
   ],
   "source": [
    "(x_dataset, y_dataset), (x_num, y_num) = load_dataset(\n",
    "    ich420_tfrecords,\n",
    "    train_rate=TRAINING_RATE, \n",
    "    only_sample=True, \n",
    "    shuffle=True,\n",
    "    repeat=True, \n",
    "    batch_size=BATCH_SIZE\n",
    ")"
   ]
  },
  {
   "cell_type": "markdown",
   "metadata": {
    "id": "dVlJByrnVeh6"
   },
   "source": [
    "### 載入模型"
   ]
  },
  {
   "cell_type": "code",
   "execution_count": 27,
   "metadata": {
    "id": "gTIoywX2aPIA"
   },
   "outputs": [],
   "source": [
    "model = UNet(\n",
    "    backbone=BACKBONE,\n",
    "    jit_compile=False\n",
    ")"
   ]
  },
  {
   "cell_type": "markdown",
   "metadata": {
    "id": "bdueg5VtUh1Z"
   },
   "source": [
    "### 訓練"
   ]
  },
  {
   "cell_type": "code",
   "execution_count": 28,
   "metadata": {
    "id": "GEQIvBAyUII7"
   },
   "outputs": [
    {
     "name": "stderr",
     "output_type": "stream",
     "text": [
      "2022-11-09 16:29:42.649840: I tensorflow/stream_executor/cuda/cuda_dnn.cc:384] Loaded cuDNN version 8100\n",
      "2022-11-09 16:29:43.704970: I tensorflow/stream_executor/cuda/cuda_blas.cc:1614] TensorFloat-32 will be used for the matrix multiplication. This will only be logged once.\n"
     ]
    },
    {
     "name": "stdout",
     "output_type": "stream",
     "text": [
      "1378/1378 - 269s - loss: 1.0052 - iou_score: 0.5776 - f1-score: 0.5776 - val_loss: 1.0004 - val_iou_score: 0.9971 - val_f1-score: 0.9971 - lr: 1.0000e-04 - 269s/epoch - 195ms/step\n"
     ]
    }
   ],
   "source": [
    "history = model.fit(\n",
    "    x_dataset,\n",
    "    epochs=EPOCH,\n",
    "    steps_per_epoch=int(math.ceil(1. * x_num) / BATCH_SIZE),\n",
    "    callbacks=[keras.callbacks.ReduceLROnPlateau()],\n",
    "    validation_data=y_dataset,\n",
    "    verbose=1\n",
    ")"
   ]
  },
  {
   "cell_type": "markdown",
   "metadata": {
    "id": "-F25vP76eZ1X"
   },
   "source": [
    "### 訓練歷史圖"
   ]
  },
  {
   "cell_type": "code",
   "execution_count": 29,
   "metadata": {
    "id": "yas5UAvKapdC"
   },
   "outputs": [
    {
     "data": {
      "image/png": "[encoded data removed]",
      "text/plain": [
       "<Figure size 1200x400 with 2 Axes>"
      ]
     },
     "metadata": {},
     "output_type": "display_data"
    }
   ],
   "source": [
    "plt.figure(figsize=(12,4))\n",
    "plt.subplot(1,2,(1))\n",
    "plt.plot(history.history['iou_score'],linestyle='-.')\n",
    "plt.plot(history.history['val_iou_score'])\n",
    "plt.title('model accuracy')\n",
    "plt.ylabel('accuracy')\n",
    "plt.xlabel('epoch')\n",
    "plt.legend(['train', 'valid'], loc='lower right')\n",
    "\n",
    "plt.subplot(1,2,(2))\n",
    "plt.plot(history.history['loss'],linestyle='-.')\n",
    "plt.plot(history.history['val_loss'])\n",
    "plt.title('model loss')\n",
    "plt.ylabel('loss')\n",
    "plt.xlabel('epoch')\n",
    "plt.legend(['train', 'valid'], loc='upper right')\n",
    "plt.show()"
   ]
  }
 ],
 "metadata": {
  "accelerator": "GPU",
  "colab": {
   "collapsed_sections": [
    "1FFT0Fz90xWS",
    "IYxoZwse1LZ5",
    "HyITIZ-M3A2p",
    "Dajm1gY3KuJ7",
    "-7PAoauAWcVX",
    "KDEbAig7WiJF",
    "90xJK1mX1Opy",
    "vJd3p-GwXd3d",
    "S4wv-p3zI4rQ",
    "e0-GQZFOXn7T",
    "EuoYiDZ4Xz35",
    "Qc8hXHiTQXWD",
    "hTrbZvjRU6k3",
    "r1V_tUg3aRyv"
   ],
   "provenance": []
  },
  "gpuClass": "standard",
  "kernelspec": {
   "display_name": "Python 3.8.10 64-bit",
   "language": "python",
   "name": "python3"
  },
  "language_info": {
   "codemirror_mode": {
    "name": "ipython",
    "version": 3
   },
   "file_extension": ".py",
   "mimetype": "text/x-python",
   "name": "python",
   "nbconvert_exporter": "python",
   "pygments_lexer": "ipython3",
   "version": "3.8.10"
  },
  "vscode": {
   "interpreter": {
    "hash": "31f2aee4e71d21fbe5cf8b01ff0e069b9275f58929596ceb00d14d90e3e16cd6"
   }
  },
  "widgets": {
   "application/vnd.jupyter.widget-state+json": {
    "023f70c0bd2f4840bcd1540580a34a6d": {
     "model_module": "@jupyter-widgets/controls",
     "model_module_version": "1.5.0",
     "model_name": "HTMLModel",
     "state": {
      "_dom_classes": [],
      "_model_module": "@jupyter-widgets/controls",
      "_model_module_version": "1.5.0",
      "_model_name": "HTMLModel",
      "_view_count": null,
      "_view_module": "@jupyter-widgets/controls",
      "_view_module_version": "1.5.0",
      "_view_name": "HTMLView",
      "description": "",
      "description_tooltip": null,
      "layout": "IPY_MODEL_2833b16ceb3e43deb4e13b30ee1e9545",
      "placeholder": "​",
      "style": "IPY_MODEL_3d4b8b2875914fa5beb9f5adb21d6d7e",
      "value": " 6891/? [01:33&lt;00:00, 114.14it/s]"
     }
    },
    "2833b16ceb3e43deb4e13b30ee1e9545": {
     "model_module": "@jupyter-widgets/base",
     "model_module_version": "1.2.0",
     "model_name": "LayoutModel",
     "state": {
      "_model_module": "@jupyter-widgets/base",
      "_model_module_version": "1.2.0",
      "_model_name": "LayoutModel",
      "_view_count": null,
      "_view_module": "@jupyter-widgets/base",
      "_view_module_version": "1.2.0",
      "_view_name": "LayoutView",
      "align_content": null,
      "align_items": null,
      "align_self": null,
      "border": null,
      "bottom": null,
      "display": null,
      "flex": null,
      "flex_flow": null,
      "grid_area": null,
      "grid_auto_columns": null,
      "grid_auto_flow": null,
      "grid_auto_rows": null,
      "grid_column": null,
      "grid_gap": null,
      "grid_row": null,
      "grid_template_areas": null,
      "grid_template_columns": null,
      "grid_template_rows": null,
      "height": null,
      "justify_content": null,
      "justify_items": null,
      "left": null,
      "margin": null,
      "max_height": null,
      "max_width": null,
      "min_height": null,
      "min_width": null,
      "object_fit": null,
      "object_position": null,
      "order": null,
      "overflow": null,
      "overflow_x": null,
      "overflow_y": null,
      "padding": null,
      "right": null,
      "top": null,
      "visibility": null,
      "width": null
     }
    },
    "2d9a65df10454ef3a41bf251cc8cd44d": {
     "model_module": "@jupyter-widgets/controls",
     "model_module_version": "1.5.0",
     "model_name": "FloatProgressModel",
     "state": {
      "_dom_classes": [],
      "_model_module": "@jupyter-widgets/controls",
      "_model_module_version": "1.5.0",
      "_model_name": "FloatProgressModel",
      "_view_count": null,
      "_view_module": "@jupyter-widgets/controls",
      "_view_module_version": "1.5.0",
      "_view_name": "ProgressView",
      "bar_style": "success",
      "description": "",
      "description_tooltip": null,
      "layout": "IPY_MODEL_4c91a712a7a2410c922538eaf352db09",
      "max": 1,
      "min": 0,
      "orientation": "horizontal",
      "style": "IPY_MODEL_d1d7ea81351548f5bab406ae763aba6c",
      "value": 1
     }
    },
    "3d4b8b2875914fa5beb9f5adb21d6d7e": {
     "model_module": "@jupyter-widgets/controls",
     "model_module_version": "1.5.0",
     "model_name": "DescriptionStyleModel",
     "state": {
      "_model_module": "@jupyter-widgets/controls",
      "_model_module_version": "1.5.0",
      "_model_name": "DescriptionStyleModel",
      "_view_count": null,
      "_view_module": "@jupyter-widgets/base",
      "_view_module_version": "1.2.0",
      "_view_name": "StyleView",
      "description_width": ""
     }
    },
    "4a07a7048aa242bc9a1efa373a609cc3": {
     "model_module": "@jupyter-widgets/base",
     "model_module_version": "1.2.0",
     "model_name": "LayoutModel",
     "state": {
      "_model_module": "@jupyter-widgets/base",
      "_model_module_version": "1.2.0",
      "_model_name": "LayoutModel",
      "_view_count": null,
      "_view_module": "@jupyter-widgets/base",
      "_view_module_version": "1.2.0",
      "_view_name": "LayoutView",
      "align_content": null,
      "align_items": null,
      "align_self": null,
      "border": null,
      "bottom": null,
      "display": null,
      "flex": null,
      "flex_flow": null,
      "grid_area": null,
      "grid_auto_columns": null,
      "grid_auto_flow": null,
      "grid_auto_rows": null,
      "grid_column": null,
      "grid_gap": null,
      "grid_row": null,
      "grid_template_areas": null,
      "grid_template_columns": null,
      "grid_template_rows": null,
      "height": null,
      "justify_content": null,
      "justify_items": null,
      "left": null,
      "margin": null,
      "max_height": null,
      "max_width": null,
      "min_height": null,
      "min_width": null,
      "object_fit": null,
      "object_position": null,
      "order": null,
      "overflow": null,
      "overflow_x": null,
      "overflow_y": null,
      "padding": null,
      "right": null,
      "top": null,
      "visibility": null,
      "width": null
     }
    },
    "4c91a712a7a2410c922538eaf352db09": {
     "model_module": "@jupyter-widgets/base",
     "model_module_version": "1.2.0",
     "model_name": "LayoutModel",
     "state": {
      "_model_module": "@jupyter-widgets/base",
      "_model_module_version": "1.2.0",
      "_model_name": "LayoutModel",
      "_view_count": null,
      "_view_module": "@jupyter-widgets/base",
      "_view_module_version": "1.2.0",
      "_view_name": "LayoutView",
      "align_content": null,
      "align_items": null,
      "align_self": null,
      "border": null,
      "bottom": null,
      "display": null,
      "flex": null,
      "flex_flow": null,
      "grid_area": null,
      "grid_auto_columns": null,
      "grid_auto_flow": null,
      "grid_auto_rows": null,
      "grid_column": null,
      "grid_gap": null,
      "grid_row": null,
      "grid_template_areas": null,
      "grid_template_columns": null,
      "grid_template_rows": null,
      "height": null,
      "justify_content": null,
      "justify_items": null,
      "left": null,
      "margin": null,
      "max_height": null,
      "max_width": null,
      "min_height": null,
      "min_width": null,
      "object_fit": null,
      "object_position": null,
      "order": null,
      "overflow": null,
      "overflow_x": null,
      "overflow_y": null,
      "padding": null,
      "right": null,
      "top": null,
      "visibility": null,
      "width": null
     }
    },
    "586f400d88f0448388833cee919770bc": {
     "model_module": "@jupyter-widgets/controls",
     "model_module_version": "1.5.0",
     "model_name": "HBoxModel",
     "state": {
      "_dom_classes": [],
      "_model_module": "@jupyter-widgets/controls",
      "_model_module_version": "1.5.0",
      "_model_name": "HBoxModel",
      "_view_count": null,
      "_view_module": "@jupyter-widgets/controls",
      "_view_module_version": "1.5.0",
      "_view_name": "HBoxView",
      "box_style": "",
      "children": [
       "IPY_MODEL_990e4d48a766463d9118fd2390179e72",
       "IPY_MODEL_2d9a65df10454ef3a41bf251cc8cd44d",
       "IPY_MODEL_023f70c0bd2f4840bcd1540580a34a6d"
      ],
      "layout": "IPY_MODEL_4a07a7048aa242bc9a1efa373a609cc3"
     }
    },
    "990e4d48a766463d9118fd2390179e72": {
     "model_module": "@jupyter-widgets/controls",
     "model_module_version": "1.5.0",
     "model_name": "HTMLModel",
     "state": {
      "_dom_classes": [],
      "_model_module": "@jupyter-widgets/controls",
      "_model_module_version": "1.5.0",
      "_model_name": "HTMLModel",
      "_view_count": null,
      "_view_module": "@jupyter-widgets/controls",
      "_view_module_version": "1.5.0",
      "_view_name": "HTMLView",
      "description": "",
      "description_tooltip": null,
      "layout": "IPY_MODEL_e9201bdd34f748cbb3ab2d7dfc99388f",
      "placeholder": "​",
      "style": "IPY_MODEL_b1a7d9c1f40b4d6ba3421c26f29799b3",
      "value": "Count: "
     }
    },
    "b1a7d9c1f40b4d6ba3421c26f29799b3": {
     "model_module": "@jupyter-widgets/controls",
     "model_module_version": "1.5.0",
     "model_name": "DescriptionStyleModel",
     "state": {
      "_model_module": "@jupyter-widgets/controls",
      "_model_module_version": "1.5.0",
      "_model_name": "DescriptionStyleModel",
      "_view_count": null,
      "_view_module": "@jupyter-widgets/base",
      "_view_module_version": "1.2.0",
      "_view_name": "StyleView",
      "description_width": ""
     }
    },
    "d1d7ea81351548f5bab406ae763aba6c": {
     "model_module": "@jupyter-widgets/controls",
     "model_module_version": "1.5.0",
     "model_name": "ProgressStyleModel",
     "state": {
      "_model_module": "@jupyter-widgets/controls",
      "_model_module_version": "1.5.0",
      "_model_name": "ProgressStyleModel",
      "_view_count": null,
      "_view_module": "@jupyter-widgets/base",
      "_view_module_version": "1.2.0",
      "_view_name": "StyleView",
      "bar_color": null,
      "description_width": ""
     }
    },
    "e9201bdd34f748cbb3ab2d7dfc99388f": {
     "model_module": "@jupyter-widgets/base",
     "model_module_version": "1.2.0",
     "model_name": "LayoutModel",
     "state": {
      "_model_module": "@jupyter-widgets/base",
      "_model_module_version": "1.2.0",
      "_model_name": "LayoutModel",
      "_view_count": null,
      "_view_module": "@jupyter-widgets/base",
      "_view_module_version": "1.2.0",
      "_view_name": "LayoutView",
      "align_content": null,
      "align_items": null,
      "align_self": null,
      "border": null,
      "bottom": null,
      "display": null,
      "flex": null,
      "flex_flow": null,
      "grid_area": null,
      "grid_auto_columns": null,
      "grid_auto_flow": null,
      "grid_auto_rows": null,
      "grid_column": null,
      "grid_gap": null,
      "grid_row": null,
      "grid_template_areas": null,
      "grid_template_columns": null,
      "grid_template_rows": null,
      "height": null,
      "justify_content": null,
      "justify_items": null,
      "left": null,
      "margin": null,
      "max_height": null,
      "max_width": null,
      "min_height": null,
      "min_width": null,
      "object_fit": null,
      "object_position": null,
      "order": null,
      "overflow": null,
      "overflow_x": null,
      "overflow_y": null,
      "padding": null,
      "right": null,
      "top": null,
      "visibility": null,
      "width": null
     }
    }
   }
  }
 },
 "nbformat": 4,
 "nbformat_minor": 0
}
